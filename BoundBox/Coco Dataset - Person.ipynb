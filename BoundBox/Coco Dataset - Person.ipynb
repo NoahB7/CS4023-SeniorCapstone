{
 "cells": [
  {
   "cell_type": "code",
   "execution_count": 1,
   "metadata": {},
   "outputs": [],
   "source": [
    "#SOURCE: https://www.youtube.com/watch?v=HXDD7-EnGBY\n",
    "\n",
    "import cv2\n",
    "thres = 0.45 # Threshold to detect object\n",
    " \n",
    "cap = cv2.VideoCapture(0)\n",
    "cap.set(3,1280)\n",
    "cap.set(4,720)\n",
    "cap.set(10,70)\n",
    " \n",
    "classNames = []\n",
    "classFile = 'coco.names'\n",
    "with open(classFile,'rt') as f:\n",
    "    classNames = f.read().rstrip('\\n').split('\\n')\n",
    "\n",
    "configPath = 'ssd_mobilenet_v3_large_coco_2020_01_14.pbtxt'\n",
    "weightsPath = 'frozen_inference_graph.pb'\n",
    " \n",
    "net = cv2.dnn_DetectionModel(weightsPath,configPath)\n",
    "net.setInputSize(320,320)\n",
    "net.setInputScale(1.0/127.5)\n",
    "net.setInputMean((127.5, 127.5, 127.5))\n",
    "net.setInputSwapRB(True)\n",
    " \n",
    "while True:\n",
    "    success,img = cap.read()\n",
    "    classIds, confs, bbox = net.detect(img,confThreshold=thres)\n",
    "    #print(classIds,bbox)\n",
    "    #print(classNames[0])\n",
    " \n",
    "    if len(classIds) != 0:\n",
    "        for classId, confidence,box in zip(classIds.flatten(),confs.flatten(),bbox):\n",
    "            if classNames[(classId-1)].upper() == \"PERSON\":\n",
    "                cv2.rectangle(img,box,color=(0,255,0),thickness=2)\n",
    "                cv2.putText(img,classNames[(classId-1)].upper(),(box[0]+10,box[1]+30),cv2.FONT_HERSHEY_COMPLEX,1,(0,255,0),2)\n",
    "                cv2.putText(img,str(round(confidence*100,2)),(box[0]+200,box[1]+30),cv2.FONT_HERSHEY_COMPLEX,1,(0,255,0),2)\n",
    " \n",
    "    cv2.imshow(\"Output\",img)\n",
    "    if cv2.waitKey(1) & 0xFF == ord('q'):\n",
    "        cap.release()\n",
    "        cv2.destroyAllWindows()\n",
    "        break"
   ]
  }
 ],
 "metadata": {
  "kernelspec": {
   "display_name": "Python 3",
   "language": "python",
   "name": "python3"
  },
  "language_info": {
   "codemirror_mode": {
    "name": "ipython",
    "version": 3
   },
   "file_extension": ".py",
   "mimetype": "text/x-python",
   "name": "python",
   "nbconvert_exporter": "python",
   "pygments_lexer": "ipython3",
   "version": "3.8.5"
  }
 },
 "nbformat": 4,
 "nbformat_minor": 4
}
